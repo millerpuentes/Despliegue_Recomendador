{
  "cells": [
    {
      "cell_type": "markdown",
      "metadata": {
        "id": "NC-ceGb8LRLT"
      },
      "source": [
        "## **SISTEMA RECOMENDADOR DE NOTICIAS PARA CLIENTES CORPORATIVOS DE UN BANCO**"
      ]
    },
    {
      "cell_type": "markdown",
      "metadata": {
        "id": "mACJbcW8T35p"
      },
      "source": [
        "\n",
        "**Profesor**: Juan Fernando Perez Bernal\n",
        "\n",
        "**Integrantes**: Miller Puentes, Joan Esteban Chacón, Grace González, Catalina Cárdenasace González, Catalina Cárdenas\n"
      ]
    },
    {
      "cell_type": "markdown",
      "metadata": {
        "id": "tFJGKpY27aSH"
      },
      "source": [
        "En este documento se presenta el Modelamiento de los datos para el desarrollo de un sistema de recomendación de noticias para los clientes de un banco basado en el sector económico al que pertenece."
      ]
    },
    {
      "cell_type": "markdown",
      "metadata": {
        "id": "PnsQjjiSQEnx"
      },
      "source": [
        "### ***Tabla de contenido***\n",
        "\n",
        "**0.   Instalación y llamada de librerías**\n",
        "\n",
        "  0.1 Instalación de pyLDAvis\n",
        "\n",
        "  0.2 Instalación de librerías\n",
        "\n",
        "\n",
        "**4. Recomendadores**\n",
        "\n",
        "  4.1 Recomendador: LDA - Stemming\n",
        "\n",
        "  4.2 Recomendador: LDA - Lematización\n",
        "\n",
        "**5. Resultados**\n"
      ]
    },
    {
      "cell_type": "markdown",
      "metadata": {
        "id": "Y5V1RLeoGBde"
      },
      "source": [
        "## ***0. Instalación y llamada de librerías***"
      ]
    },
    {
      "cell_type": "markdown",
      "metadata": {
        "id": "PPLUYT1v7nej"
      },
      "source": [
        "### ***0.1 Instalación de pyLDAvis***"
      ]
    },
    {
      "cell_type": "code",
      "execution_count": 1,
      "metadata": {
        "colab": {
          "base_uri": "https://localhost:8080/"
        },
        "id": "WCxcLaj6_6Mf",
        "outputId": "651947e6-6743-4a91-efe1-8f08a9ae5eae"
      },
      "outputs": [
        {
          "name": "stdout",
          "output_type": "stream",
          "text": [
            "2.0.0\n",
            "1.24.3\n",
            "3.4.0\n"
          ]
        }
      ],
      "source": [
        "import pandas as pd\n",
        "import numpy as np\n",
        "import pyLDAvis\n",
        "\n",
        "print(pd.__version__)\n",
        "print(np.__version__)\n",
        "print(pyLDAvis.__version__)"
      ]
    },
    {
      "cell_type": "markdown",
      "metadata": {
        "id": "dtbG3FiN7z6K"
      },
      "source": [
        "### ***0.2 Instalación de librerías***"
      ]
    },
    {
      "cell_type": "code",
      "execution_count": 2,
      "metadata": {
        "colab": {
          "base_uri": "https://localhost:8080/"
        },
        "id": "VpJReNP27aSI",
        "outputId": "00712fe0-eaf0-40e6-d94a-de876ddddea9"
      },
      "outputs": [],
      "source": [
        "import warnings\n",
        "warnings.filterwarnings('ignore')\n",
        "\n",
        "# Importación de librerías\n",
        "import pandas as pd\n",
        "import seaborn as sns\n",
        "import matplotlib.pyplot as plt\n",
        "import re\n",
        "import unidecode\n",
        "import spacy\n",
        "from spacy.lang.es.examples import sentences\n",
        "from unidecode import unidecode\n",
        "import zipfile\n",
        "import numpy as np\n",
        "from sklearn.feature_extraction.text import TfidfVectorizer\n",
        "import string\n",
        "import nltk\n",
        "import pyLDAvis.gensim_models\n",
        "from gensim.corpora import Dictionary\n",
        "from nltk.stem import SnowballStemmer\n",
        "from nltk.tokenize import word_tokenize\n",
        "from nltk.stem import WordNetLemmatizer\n",
        "from nltk.corpus import stopwords\n",
        "from sklearn.decomposition import PCA\n",
        "from sklearn.decomposition import LatentDirichletAllocation\n",
        "from wordcloud import WordCloud\n",
        "# from transformers import AutoModel, AutoTokenizer\n",
        "from gensim.models import CoherenceModel\n",
        "from gensim.models.ldamulticore import LdaMulticore\n",
        "from wordcloud import WordCloud\n",
        "from pprint import pprint\n",
        "from gensim.models import LdaModel\n",
        "\n",
        "# Visualizamos los resultados\n",
        "import pyLDAvis\n",
        "import pyLDAvis.gensim_models as gensimvis\n",
        "import matplotlib.pyplot as plt\n",
        "from wordcloud import WordCloud"
      ]
    },
    {
      "cell_type": "code",
      "execution_count": 3,
      "metadata": {
        "colab": {
          "base_uri": "https://localhost:8080/"
        },
        "id": "TkXUHXcR9xWd",
        "outputId": "7424c8d6-2199-41fa-f2db-1d4407c13f00"
      },
      "outputs": [
        {
          "name": "stderr",
          "output_type": "stream",
          "text": [
            "[nltk_data] Downloading package punkt to\n",
            "[nltk_data]     C:\\Users\\relat\\AppData\\Roaming\\nltk_data...\n",
            "[nltk_data]   Package punkt is already up-to-date!\n",
            "[nltk_data] Downloading package wordnet to\n",
            "[nltk_data]     C:\\Users\\relat\\AppData\\Roaming\\nltk_data...\n",
            "[nltk_data]   Package wordnet is already up-to-date!\n",
            "[nltk_data] Downloading package omw-1.4 to\n",
            "[nltk_data]     C:\\Users\\relat\\AppData\\Roaming\\nltk_data...\n",
            "[nltk_data]   Package omw-1.4 is already up-to-date!\n",
            "[nltk_data] Downloading package stopwords to\n",
            "[nltk_data]     C:\\Users\\relat\\AppData\\Roaming\\nltk_data...\n",
            "[nltk_data]   Package stopwords is already up-to-date!\n"
          ]
        }
      ],
      "source": [
        "nltk.download('punkt')\n",
        "nltk.download('wordnet')\n",
        "nltk.download('omw-1.4')\n",
        "nltk.download('stopwords')\n",
        "\n",
        "# Cargar el modelo de spacy para el español\n",
        "nlp = spacy.load(\"es_core_news_sm\")"
      ]
    },
    {
      "cell_type": "markdown",
      "metadata": {
        "id": "SH6893uulDPO"
      },
      "source": [
        "## ***4. Recomendadores***\n",
        "\n",
        "Para contruir el recomendador se usa un sistema de prioridad de acuerdo al sector al que pertenece el cliente, pero se hace una distinción dependiendo del sector al que pertenece el cliente como se muestra a continuación:\n",
        "\n",
        "* ***Sector Industrial:***\n",
        "       'manufactura de productos de tocador articulos de aseo',\n",
        "       'combustibles lubricantes', 'comercio de repuestos',\n",
        "       'edificaciones', 'gas', 'distribuidores productos consumo masivo',\n",
        "       'automotores', 'grasas aceites', 'obras de infraestructura',\n",
        "       'comercio de electrodomesticos', 'ferreteria', 'papel carton',\n",
        "       'extraccion de carbon', 'plastico', 'maquinaria',\n",
        "       'imprentas edicion', 'otros servicios financieros',\n",
        "       'transporte terrestre', 'bancos', 'supermercados',\n",
        "       'quimicos basicos otros quimicos', 'madera muebles',\n",
        "       'servicios empresas', 'carnes frias',\n",
        "       'productos metalicos', 'transporte maritimo', 'agroquimicos',\n",
        "       'comisionistas de bolsa', 'cacao', 'servicios personas',\n",
        "       'establecimientos educativos', 'comercio de variedades vestuario',\n",
        "       'calzado marroquineria', 'confecciones',\n",
        "       'acueducto alcantarillado', 'medios', 'fondos de pensiones',\n",
        "       'transporte aereo', 'fiduciarias', 'molineria derivados',\n",
        "       'alimentos concentrados', 'seguros', 'valor agregado',\n",
        "       'extraccion de petroleo', 'textiles', 'electricidad', 'conservas',\n",
        "       'ganaderia porcicultura', 'cajas de compensacion',\n",
        "       'industria basica de hierro acero', 'productos lacteos',\n",
        "       'pesca atun', 'aseo', 'otras actividades mineras',\n",
        "       'companias de financiamiento comercial', 'flores',\n",
        "       'comercio de quimicos agroquimicos', 'banano',\n",
        "       'productos ceramicos', 'vidrio', 'telefonia fija',\n",
        "       'bebidas no alcoholicas', 'equipo de transporte',\n",
        "       'repuestos caucho', 'hoteles', 'cemento', 'bebidas alcoholicas',\n",
        "       'palma africana', 'otros cultivos', 'otros manufactura',\n",
        "       'resinas plasticas', 'papeles suaves', 'avicultura', 'arroz',\n",
        "       'confiteria', 'azucar', 'tabaco', 'comercio de cafe',\n",
        "       'pinturas barnices'\n",
        "\n",
        "En el sector industrial la prioridad de las noticias se encuentran por:\n",
        "\n",
        "1.   `Macroeconómicas`\n",
        "2.   `Politica`\n",
        "3.   `Sostenibilidad`\n",
        "4.   `Innovación`\n",
        "5.   `Regulaciones`\n",
        "6.   `Alianzas`\n",
        "7.   `Reputación`\n",
        "8.   `Cultura`\n",
        "9.   `Salud`\n",
        "10.  `Deporte`\n",
        "\n",
        "* Sector Salud:\n",
        "       'ips','comercio de farmaceuticos', 'eps salud prepagada salud',\n",
        "       'manufactura de productos farmaceuticos'\n",
        "\n",
        "En el sector de la salud la prioridad y los pesos están función de:\n",
        "\n",
        "1.   `Salud`\n",
        "2.   `Sostenibilidad`\n",
        "3.   `Innovación`\n",
        "4.   `Regulaciones`\n",
        "5.   `Deporte`\n",
        "6.   `Cultura`\n",
        "7.   `Reputación`\n",
        "8.   `Macroeconómicas`\n",
        "9.   `Politica`\n",
        "10.  `Alianzas`\n",
        "\n",
        "\n",
        "Nota: La categoría 'Otra' se indica que la eliminemos de las sugerencias ya que no son relevantes para el negocio."
      ]
    },
    {
      "cell_type": "markdown",
      "metadata": {
        "id": "f3Jdc-YKlO7U"
      },
      "source": [
        "### ***4.1 Recomendador: LDA - Stemming***"
      ]
    },
    {
      "cell_type": "code",
      "execution_count": 4,
      "metadata": {},
      "outputs": [],
      "source": [
        "df_bd_stemming_f2=pd.read_csv('../Data/DC_stemming_tema_asignado.csv')"
      ]
    },
    {
      "cell_type": "markdown",
      "metadata": {
        "id": "l1Kbt6eC4G7L"
      },
      "source": [
        "Se crea la columna con el sector y se seleccionan las variables más relevantes para el recomendador:"
      ]
    },
    {
      "cell_type": "code",
      "execution_count": 5,
      "metadata": {
        "colab": {
          "base_uri": "https://localhost:8080/",
          "height": 195
        },
        "id": "WcP5R0Ph4F2D",
        "outputId": "f1701c9a-ae49-4ad0-d3e7-e6f3a0019ec4"
      },
      "outputs": [
        {
          "data": {
            "text/html": [
              "<div>\n",
              "<style scoped>\n",
              "    .dataframe tbody tr th:only-of-type {\n",
              "        vertical-align: middle;\n",
              "    }\n",
              "\n",
              "    .dataframe tbody tr th {\n",
              "        vertical-align: top;\n",
              "    }\n",
              "\n",
              "    .dataframe thead th {\n",
              "        text-align: right;\n",
              "    }\n",
              "</style>\n",
              "<table border=\"1\" class=\"dataframe\">\n",
              "  <thead>\n",
              "    <tr style=\"text-align: right;\">\n",
              "      <th></th>\n",
              "      <th>nit</th>\n",
              "      <th>sector</th>\n",
              "      <th>subsec</th>\n",
              "      <th>news_id</th>\n",
              "      <th>news_title</th>\n",
              "      <th>news_text_content</th>\n",
              "      <th>Tema_texto</th>\n",
              "    </tr>\n",
              "  </thead>\n",
              "  <tbody>\n",
              "    <tr>\n",
              "      <th>0</th>\n",
              "      <td>800000946</td>\n",
              "      <td>Industrial</td>\n",
              "      <td>manufactura de productos de tocador articulos ...</td>\n",
              "      <td>news15986</td>\n",
              "      <td>Guia de Arte y Cultura: semana del 12 al 19 de...</td>\n",
              "      <td>ARTE Agustina Galindez Quesada exhibe \"Catarsi...</td>\n",
              "      <td>Regulaciones</td>\n",
              "    </tr>\n",
              "    <tr>\n",
              "      <th>1</th>\n",
              "      <td>800011161</td>\n",
              "      <td>Industrial</td>\n",
              "      <td>automotores</td>\n",
              "      <td>news17955</td>\n",
              "      <td>No solo habra desfiles el 20 de julio, estos s...</td>\n",
              "      <td>El Dia de la Independencia, este miercoles 20 ...</td>\n",
              "      <td>Regulaciones</td>\n",
              "    </tr>\n",
              "    <tr>\n",
              "      <th>2</th>\n",
              "      <td>800015615</td>\n",
              "      <td>Industrial</td>\n",
              "      <td>ferreteria</td>\n",
              "      <td>news96447</td>\n",
              "      <td>Black Friday | Comerciantes posadenos prometen...</td>\n",
              "      <td>Desde este jueves se realizara en Posadas la y...</td>\n",
              "      <td>Regulaciones</td>\n",
              "    </tr>\n",
              "  </tbody>\n",
              "</table>\n",
              "</div>"
            ],
            "text/plain": [
              "         nit      sector                                             subsec   \n",
              "0  800000946  Industrial  manufactura de productos de tocador articulos ...  \\\n",
              "1  800011161  Industrial                                        automotores   \n",
              "2  800015615  Industrial                                         ferreteria   \n",
              "\n",
              "     news_id                                         news_title   \n",
              "0  news15986  Guia de Arte y Cultura: semana del 12 al 19 de...  \\\n",
              "1  news17955  No solo habra desfiles el 20 de julio, estos s...   \n",
              "2  news96447  Black Friday | Comerciantes posadenos prometen...   \n",
              "\n",
              "                                   news_text_content    Tema_texto  \n",
              "0  ARTE Agustina Galindez Quesada exhibe \"Catarsi...  Regulaciones  \n",
              "1  El Dia de la Independencia, este miercoles 20 ...  Regulaciones  \n",
              "2  Desde este jueves se realizara en Posadas la y...  Regulaciones  "
            ]
          },
          "execution_count": 5,
          "metadata": {},
          "output_type": "execute_result"
        }
      ],
      "source": [
        "condicion = lambda x: 'Salud' if x in ['ips','comercio de farmaceuticos', 'eps salud prepagada salud','manufactura de productos farmaceuticos'] else 'Industrial'\n",
        "df_bd_stemming_f2['sector'] = df_bd_stemming_f2['subsec'].apply(condicion)\n",
        "\n",
        "# Se seleccionana las columnas relevantes\n",
        "df_bd_stemming_f2 = df_bd_stemming_f2[['nit','sector', 'subsec','news_id', 'news_title', 'news_text_content', 'Tema_texto']]\n",
        "df_bd_stemming_f2.head(3)"
      ]
    },
    {
      "cell_type": "markdown",
      "metadata": {
        "id": "VRo5Sy3m8ntx"
      },
      "source": [
        "Se revisa cuantas noticias existe por sector:"
      ]
    },
    {
      "cell_type": "code",
      "execution_count": 6,
      "metadata": {
        "colab": {
          "base_uri": "https://localhost:8080/"
        },
        "id": "2vfef9Yl8kDO",
        "outputId": "57d53d89-10cd-4d57-cc1f-91aca59fe916"
      },
      "outputs": [
        {
          "data": {
            "text/plain": [
              "sector\n",
              "Industrial    21697\n",
              "Salud          1303\n",
              "Name: count, dtype: int64"
            ]
          },
          "execution_count": 6,
          "metadata": {},
          "output_type": "execute_result"
        }
      ],
      "source": [
        "df_bd_stemming_f2['sector'].value_counts()"
      ]
    },
    {
      "cell_type": "markdown",
      "metadata": {
        "id": "Fy1BdGkl819o"
      },
      "source": [
        "Gran parte de la población pertenece a otros sectores diferentes al sector salud.\n",
        "\n",
        "Ahora, se procede a crear las funciones del recomendador:\n",
        "\n",
        "1. seleccionar_dos_filas_aleatorias: esta función seleccionará dos filas aleatorias de un grupo de noticias.\n",
        "2. asignar_valor: Esta función asignará el valor que se le debe dar a la noticia de acuerdo a las definiciones del negocio y del sector del cliente.\n",
        "3. recomendador: Esta función toma como insumo el nit de un cliente, el número de noticias que se le quiere mostrar y el dataframe que se le va a suministrar. La función filtra por su sector y le asigna la relevancia a la notica de acuerdo a la función `asignar_valor` que está en función del sector al que pertenece, para luego ordenarlas por temas y seleccionar 2 noticias de cada topico para presentarla al cliente, también permite visualizar el número de noticias que se desea ver (pero priorizando las de mayor relevancia para el cliente)."
      ]
    },
    {
      "cell_type": "code",
      "execution_count": 7,
      "metadata": {
        "id": "-pLlo5hY9GPM"
      },
      "outputs": [],
      "source": [
        "def seleccionar_dos_filas_aleatorias(group):\n",
        "    return group.sample(n=min(2, len(group)))\n",
        "\n",
        "def asignar_valor(row, sector):\n",
        "    temas = {\n",
        "        'Salud': [1, 9],\n",
        "        'Sostenibilidad': [2, 3],\n",
        "        'Innovación': [3, 4],\n",
        "        'Regulaciones': [4, 5],\n",
        "        'Deportes': [5, 10],\n",
        "        'Cultura': [6, 8],\n",
        "        'Reputación': [7, 7],\n",
        "        'Macroeconómicas': [8, 1],\n",
        "        'Política': [9, 2],\n",
        "        'Alianzas': [10, 6]\n",
        "    }\n",
        "\n",
        "    tema = row['Tema_texto']\n",
        "\n",
        "    if sector == 'Salud':\n",
        "        return temas.get(tema, [11, 0])[0]\n",
        "    else:\n",
        "        return temas.get(tema, [11, 0])[1]\n",
        "\n",
        "def recomendador(nit, num_noticias, dff):\n",
        "    # Se copia el df ingresado\n",
        "    dff1 = dff.copy()\n",
        "\n",
        "    # Se retiran las noticias asignadas como 'Otra'.\n",
        "    dff1 = dff1[dff1['Tema_texto'] != 'Otra']\n",
        "\n",
        "    # Se identifica el sector del Nit\n",
        "    s = dff1[dff1['nit'] == nit]['sector'].iloc[0]\n",
        "\n",
        "    # Se le aplica el valor asignado con la función asignar_valor\n",
        "    dff1['valor_asignado'] = dff1.apply(lambda row: asignar_valor(row, s), axis=1)\n",
        "\n",
        "    # Ordena el DataFrame por la columna 'valor_asignado'\n",
        "    dff1 = dff1.sort_values(by='valor_asignado')\n",
        "\n",
        "    # Agrupa el DataFrame por 'valor_asignado' y aplica la función para seleccionar aleatoriamente dos noticias\n",
        "    resultados = dff1.groupby('valor_asignado', group_keys=False).apply(seleccionar_dos_filas_aleatorias)\n",
        "\n",
        "    resultados = resultados[['news_id', 'news_title', 'Tema_texto', 'news_text_content']]\n",
        "\n",
        "    resultados.reset_index(drop=True,inplace=True)\n",
        "\n",
        "    return resultados.head(num_noticias)"
      ]
    },
    {
      "cell_type": "code",
      "execution_count": 8,
      "metadata": {
        "colab": {
          "base_uri": "https://localhost:8080/",
          "height": 363
        },
        "id": "j3bOP-5cBOkD",
        "outputId": "98b82745-d586-4813-acc6-8eb81836d035"
      },
      "outputs": [
        {
          "data": {
            "text/html": [
              "<div>\n",
              "<style scoped>\n",
              "    .dataframe tbody tr th:only-of-type {\n",
              "        vertical-align: middle;\n",
              "    }\n",
              "\n",
              "    .dataframe tbody tr th {\n",
              "        vertical-align: top;\n",
              "    }\n",
              "\n",
              "    .dataframe thead th {\n",
              "        text-align: right;\n",
              "    }\n",
              "</style>\n",
              "<table border=\"1\" class=\"dataframe\">\n",
              "  <thead>\n",
              "    <tr style=\"text-align: right;\">\n",
              "      <th></th>\n",
              "      <th>news_id</th>\n",
              "      <th>news_title</th>\n",
              "      <th>Tema_texto</th>\n",
              "      <th>news_text_content</th>\n",
              "    </tr>\n",
              "  </thead>\n",
              "  <tbody>\n",
              "    <tr>\n",
              "      <th>0</th>\n",
              "      <td>news90370</td>\n",
              "      <td>?Colapsara la industria de la mineria de Bitco...</td>\n",
              "      <td>Salud</td>\n",
              "      <td>Desde Investing.com Espana le invitamos a que ...</td>\n",
              "    </tr>\n",
              "    <tr>\n",
              "      <th>1</th>\n",
              "      <td>news82173</td>\n",
              "      <td>Preocupacion por el aumento de los ciberataque...</td>\n",
              "      <td>Salud</td>\n",
              "      <td>La adopcion de herramientas digitales ha impac...</td>\n",
              "    </tr>\n",
              "    <tr>\n",
              "      <th>2</th>\n",
              "      <td>news48243</td>\n",
              "      <td>Logra UTCH 3 de oro,1 de plata y 2 de bronce e...</td>\n",
              "      <td>Sostenibilidad</td>\n",
              "      <td>En el estado de Coahuila se desarrollo el even...</td>\n",
              "    </tr>\n",
              "    <tr>\n",
              "      <th>3</th>\n",
              "      <td>news53224</td>\n",
              "      <td>Emiliano Martinez: \"Los colombianos nos habian...</td>\n",
              "      <td>Sostenibilidad</td>\n",
              "      <td>Emiliano Martinez siempre es tema cuando habla...</td>\n",
              "    </tr>\n",
              "    <tr>\n",
              "      <th>4</th>\n",
              "      <td>news59128</td>\n",
              "      <td>El cambio climatico y el exterminio de la huma...</td>\n",
              "      <td>Innovación</td>\n",
              "      <td>La especulacion sobre el exterminio de la huma...</td>\n",
              "    </tr>\n",
              "    <tr>\n",
              "      <th>5</th>\n",
              "      <td>news98556</td>\n",
              "      <td>El Rin se esta reduciendo, poniendo en peligro...</td>\n",
              "      <td>Innovación</td>\n",
              "      <td>Dortmund/Londres (CNN Business) -- El rio Rin ...</td>\n",
              "    </tr>\n",
              "    <tr>\n",
              "      <th>6</th>\n",
              "      <td>news96438</td>\n",
              "      <td>Presentaron el Black Friday y Posadas ya vive ...</td>\n",
              "      <td>Regulaciones</td>\n",
              "      <td>La apertura se realizo en Casa de Gobierno y p...</td>\n",
              "    </tr>\n",
              "    <tr>\n",
              "      <th>7</th>\n",
              "      <td>news43424</td>\n",
              "      <td>?Por que quedo Boyaca con seis senadores para ...</td>\n",
              "      <td>Regulaciones</td>\n",
              "      <td>Miguel Angel Barreto Castillo, de Sutatenza; S...</td>\n",
              "    </tr>\n",
              "    <tr>\n",
              "      <th>8</th>\n",
              "      <td>news37975</td>\n",
              "      <td>!A reciclar! Aparte de contribuir con el plane...</td>\n",
              "      <td>Deportes</td>\n",
              "      <td>El crecimiento de una ciudad deja huellas posi...</td>\n",
              "    </tr>\n",
              "    <tr>\n",
              "      <th>9</th>\n",
              "      <td>news61002</td>\n",
              "      <td>Bavaria cuenta con 320 familias productoras de...</td>\n",
              "      <td>Deportes</td>\n",
              "      <td>Usando el modelo de agricultura por contrato, ...</td>\n",
              "    </tr>\n",
              "  </tbody>\n",
              "</table>\n",
              "</div>"
            ],
            "text/plain": [
              "     news_id                                         news_title   \n",
              "0  news90370  ?Colapsara la industria de la mineria de Bitco...  \\\n",
              "1  news82173  Preocupacion por el aumento de los ciberataque...   \n",
              "2  news48243  Logra UTCH 3 de oro,1 de plata y 2 de bronce e...   \n",
              "3  news53224  Emiliano Martinez: \"Los colombianos nos habian...   \n",
              "4  news59128  El cambio climatico y el exterminio de la huma...   \n",
              "5  news98556  El Rin se esta reduciendo, poniendo en peligro...   \n",
              "6  news96438  Presentaron el Black Friday y Posadas ya vive ...   \n",
              "7  news43424  ?Por que quedo Boyaca con seis senadores para ...   \n",
              "8  news37975  !A reciclar! Aparte de contribuir con el plane...   \n",
              "9  news61002  Bavaria cuenta con 320 familias productoras de...   \n",
              "\n",
              "       Tema_texto                                  news_text_content  \n",
              "0           Salud  Desde Investing.com Espana le invitamos a que ...  \n",
              "1           Salud  La adopcion de herramientas digitales ha impac...  \n",
              "2  Sostenibilidad  En el estado de Coahuila se desarrollo el even...  \n",
              "3  Sostenibilidad  Emiliano Martinez siempre es tema cuando habla...  \n",
              "4      Innovación  La especulacion sobre el exterminio de la huma...  \n",
              "5      Innovación  Dortmund/Londres (CNN Business) -- El rio Rin ...  \n",
              "6    Regulaciones  La apertura se realizo en Casa de Gobierno y p...  \n",
              "7    Regulaciones  Miguel Angel Barreto Castillo, de Sutatenza; S...  \n",
              "8        Deportes  El crecimiento de una ciudad deja huellas posi...  \n",
              "9        Deportes  Usando el modelo de agricultura por contrato, ...  "
            ]
          },
          "execution_count": 8,
          "metadata": {},
          "output_type": "execute_result"
        }
      ],
      "source": [
        "# Ejemplo cliente sector salud\n",
        "p = recomendador(860003216, 10, df_bd_stemming_f2)\n",
        "p"
      ]
    },
    {
      "cell_type": "code",
      "execution_count": 9,
      "metadata": {
        "colab": {
          "base_uri": "https://localhost:8080/",
          "height": 363
        },
        "id": "aTCiu2D5dCdb",
        "outputId": "5cccb0fa-cabc-4988-bba6-861ad225495a"
      },
      "outputs": [
        {
          "data": {
            "text/html": [
              "<div>\n",
              "<style scoped>\n",
              "    .dataframe tbody tr th:only-of-type {\n",
              "        vertical-align: middle;\n",
              "    }\n",
              "\n",
              "    .dataframe tbody tr th {\n",
              "        vertical-align: top;\n",
              "    }\n",
              "\n",
              "    .dataframe thead th {\n",
              "        text-align: right;\n",
              "    }\n",
              "</style>\n",
              "<table border=\"1\" class=\"dataframe\">\n",
              "  <thead>\n",
              "    <tr style=\"text-align: right;\">\n",
              "      <th></th>\n",
              "      <th>news_id</th>\n",
              "      <th>news_title</th>\n",
              "      <th>Tema_texto</th>\n",
              "      <th>news_text_content</th>\n",
              "    </tr>\n",
              "  </thead>\n",
              "  <tbody>\n",
              "    <tr>\n",
              "      <th>0</th>\n",
              "      <td>news27182</td>\n",
              "      <td>Objetivos generales: ?por que son tan importan...</td>\n",
              "      <td>Macroeconómicas</td>\n",
              "      <td>Definir y tratar de cumplir unos objetivos gen...</td>\n",
              "    </tr>\n",
              "    <tr>\n",
              "      <th>1</th>\n",
              "      <td>news84150</td>\n",
              "      <td>Acuerdan alianza estrategica para luchar contr...</td>\n",
              "      <td>Macroeconómicas</td>\n",
              "      <td>La Aduana Nacional y la Federacion de Empresar...</td>\n",
              "    </tr>\n",
              "    <tr>\n",
              "      <th>2</th>\n",
              "      <td>news95699</td>\n",
              "      <td>Alberto Fernandez se reunio con Gustavo Petro,...</td>\n",
              "      <td>Política</td>\n",
              "      <td>Alberto Fernandez invito a Gustavo Petro , pre...</td>\n",
              "    </tr>\n",
              "    <tr>\n",
              "      <th>3</th>\n",
              "      <td>news13938</td>\n",
              "      <td>Joe Biden, presidente de EE. UU., da positivo ...</td>\n",
              "      <td>Política</td>\n",
              "      <td>El presidente de Estados Unidos, Joe Biden, di...</td>\n",
              "    </tr>\n",
              "    <tr>\n",
              "      <th>4</th>\n",
              "      <td>news35467</td>\n",
              "      <td>Palmeiras logro la epica ante Mineiro y sigue ...</td>\n",
              "      <td>Sostenibilidad</td>\n",
              "      <td>El bicampeon Palmeiras clasifico a las semifin...</td>\n",
              "    </tr>\n",
              "    <tr>\n",
              "      <th>5</th>\n",
              "      <td>news51867</td>\n",
              "      <td>El Betis planta las bases de su Ciudad Deporti...</td>\n",
              "      <td>Sostenibilidad</td>\n",
              "      <td>Joaquin es el hombre para todo en el Betis . S...</td>\n",
              "    </tr>\n",
              "    <tr>\n",
              "      <th>6</th>\n",
              "      <td>news78439</td>\n",
              "      <td>Confirman la muerte de un trabajador por golpe...</td>\n",
              "      <td>Innovación</td>\n",
              "      <td>Un hombre de 58 anos y nacionalidad rumana fal...</td>\n",
              "    </tr>\n",
              "    <tr>\n",
              "      <th>7</th>\n",
              "      <td>news51411</td>\n",
              "      <td>Como la CIA rastreo al lider de Al Qaeda duran...</td>\n",
              "      <td>Innovación</td>\n",
              "      <td>Oficiales de inteligencia hicieron un descubri...</td>\n",
              "    </tr>\n",
              "    <tr>\n",
              "      <th>8</th>\n",
              "      <td>news64532</td>\n",
              "      <td>Destaca Marina del Pilar distincion del Valle ...</td>\n",
              "      <td>Regulaciones</td>\n",
              "      <td>Ensenada BC.- La region de Valle de Guadalupe ...</td>\n",
              "    </tr>\n",
              "    <tr>\n",
              "      <th>9</th>\n",
              "      <td>news14811</td>\n",
              "      <td>Vivian Puerta fracaso en Buen Comienzo y la pr...</td>\n",
              "      <td>Regulaciones</td>\n",
              "      <td>Puerta se formo en Bogota y venia de ser direc...</td>\n",
              "    </tr>\n",
              "  </tbody>\n",
              "</table>\n",
              "</div>"
            ],
            "text/plain": [
              "     news_id                                         news_title   \n",
              "0  news27182  Objetivos generales: ?por que son tan importan...  \\\n",
              "1  news84150  Acuerdan alianza estrategica para luchar contr...   \n",
              "2  news95699  Alberto Fernandez se reunio con Gustavo Petro,...   \n",
              "3  news13938  Joe Biden, presidente de EE. UU., da positivo ...   \n",
              "4  news35467  Palmeiras logro la epica ante Mineiro y sigue ...   \n",
              "5  news51867  El Betis planta las bases de su Ciudad Deporti...   \n",
              "6  news78439  Confirman la muerte de un trabajador por golpe...   \n",
              "7  news51411  Como la CIA rastreo al lider de Al Qaeda duran...   \n",
              "8  news64532  Destaca Marina del Pilar distincion del Valle ...   \n",
              "9  news14811  Vivian Puerta fracaso en Buen Comienzo y la pr...   \n",
              "\n",
              "        Tema_texto                                  news_text_content  \n",
              "0  Macroeconómicas  Definir y tratar de cumplir unos objetivos gen...  \n",
              "1  Macroeconómicas  La Aduana Nacional y la Federacion de Empresar...  \n",
              "2         Política  Alberto Fernandez invito a Gustavo Petro , pre...  \n",
              "3         Política  El presidente de Estados Unidos, Joe Biden, di...  \n",
              "4   Sostenibilidad  El bicampeon Palmeiras clasifico a las semifin...  \n",
              "5   Sostenibilidad  Joaquin es el hombre para todo en el Betis . S...  \n",
              "6       Innovación  Un hombre de 58 anos y nacionalidad rumana fal...  \n",
              "7       Innovación  Oficiales de inteligencia hicieron un descubri...  \n",
              "8     Regulaciones  Ensenada BC.- La region de Valle de Guadalupe ...  \n",
              "9     Regulaciones  Puerta se formo en Bogota y venia de ser direc...  "
            ]
          },
          "execution_count": 9,
          "metadata": {},
          "output_type": "execute_result"
        }
      ],
      "source": [
        "# Ejemplo cliente sector Industrial\n",
        "h = recomendador(800000946, 10, df_bd_stemming_f2)\n",
        "h"
      ]
    },
    {
      "cell_type": "markdown",
      "metadata": {
        "id": "jEHt0QWLdLjS"
      },
      "source": [
        "El recomendador asigna de manera adecuada la priorización de noticias de acuerdo al sector."
      ]
    },
    {
      "cell_type": "markdown",
      "metadata": {
        "id": "qiKPtIg5kyPt"
      },
      "source": [
        "### ***4.2 Recomendador: LDA - Lematización***"
      ]
    },
    {
      "cell_type": "code",
      "execution_count": 10,
      "metadata": {},
      "outputs": [],
      "source": [
        "df_bd_lemat_f2=pd.read_csv('../Data/DC_lematizado_tema_asignado.csv')"
      ]
    },
    {
      "cell_type": "markdown",
      "metadata": {
        "id": "N3JjLek5ZdVa"
      },
      "source": [
        "Se crea la columna con el sector y se seleccionan las variables más relevantes para el recomendador:"
      ]
    },
    {
      "cell_type": "code",
      "execution_count": 11,
      "metadata": {
        "colab": {
          "base_uri": "https://localhost:8080/",
          "height": 213
        },
        "id": "n_UAeEXYZZ6D",
        "outputId": "f5f799ef-6395-46a3-a232-0e28e89e1a17"
      },
      "outputs": [
        {
          "data": {
            "text/html": [
              "<div>\n",
              "<style scoped>\n",
              "    .dataframe tbody tr th:only-of-type {\n",
              "        vertical-align: middle;\n",
              "    }\n",
              "\n",
              "    .dataframe tbody tr th {\n",
              "        vertical-align: top;\n",
              "    }\n",
              "\n",
              "    .dataframe thead th {\n",
              "        text-align: right;\n",
              "    }\n",
              "</style>\n",
              "<table border=\"1\" class=\"dataframe\">\n",
              "  <thead>\n",
              "    <tr style=\"text-align: right;\">\n",
              "      <th></th>\n",
              "      <th>nit</th>\n",
              "      <th>sector</th>\n",
              "      <th>subsec</th>\n",
              "      <th>news_id</th>\n",
              "      <th>news_title</th>\n",
              "      <th>news_text_content</th>\n",
              "      <th>Tema_texto</th>\n",
              "    </tr>\n",
              "  </thead>\n",
              "  <tbody>\n",
              "    <tr>\n",
              "      <th>0</th>\n",
              "      <td>800000946</td>\n",
              "      <td>Industrial</td>\n",
              "      <td>manufactura de productos de tocador articulos ...</td>\n",
              "      <td>news15986</td>\n",
              "      <td>Guia de Arte y Cultura: semana del 12 al 19 de...</td>\n",
              "      <td>ARTE Agustina Galindez Quesada exhibe \"Catarsi...</td>\n",
              "      <td>Cultura</td>\n",
              "    </tr>\n",
              "    <tr>\n",
              "      <th>1</th>\n",
              "      <td>800000946</td>\n",
              "      <td>Industrial</td>\n",
              "      <td>manufactura de productos de tocador articulos ...</td>\n",
              "      <td>news94698</td>\n",
              "      <td>Bebidas organicas y veganas: novedades de Expo...</td>\n",
              "      <td>Tras dos anos de realizarse en formato virtual...</td>\n",
              "      <td>Cultura</td>\n",
              "    </tr>\n",
              "    <tr>\n",
              "      <th>2</th>\n",
              "      <td>800011161</td>\n",
              "      <td>Industrial</td>\n",
              "      <td>automotores</td>\n",
              "      <td>news17955</td>\n",
              "      <td>No solo habra desfiles el 20 de julio, estos s...</td>\n",
              "      <td>El Dia de la Independencia, este miercoles 20 ...</td>\n",
              "      <td>Cultura</td>\n",
              "    </tr>\n",
              "  </tbody>\n",
              "</table>\n",
              "</div>"
            ],
            "text/plain": [
              "         nit      sector                                             subsec   \n",
              "0  800000946  Industrial  manufactura de productos de tocador articulos ...  \\\n",
              "1  800000946  Industrial  manufactura de productos de tocador articulos ...   \n",
              "2  800011161  Industrial                                        automotores   \n",
              "\n",
              "     news_id                                         news_title   \n",
              "0  news15986  Guia de Arte y Cultura: semana del 12 al 19 de...  \\\n",
              "1  news94698  Bebidas organicas y veganas: novedades de Expo...   \n",
              "2  news17955  No solo habra desfiles el 20 de julio, estos s...   \n",
              "\n",
              "                                   news_text_content Tema_texto  \n",
              "0  ARTE Agustina Galindez Quesada exhibe \"Catarsi...    Cultura  \n",
              "1  Tras dos anos de realizarse en formato virtual...    Cultura  \n",
              "2  El Dia de la Independencia, este miercoles 20 ...    Cultura  "
            ]
          },
          "execution_count": 11,
          "metadata": {},
          "output_type": "execute_result"
        }
      ],
      "source": [
        "condicion = lambda x: 'Salud' if x in ['ips','comercio de farmaceuticos', 'eps salud prepagada salud','manufactura de productos farmaceuticos'] else 'Industrial'\n",
        "df_bd_lemat_f2['sector'] = df_bd_lemat_f2['subsec'].apply(condicion)\n",
        "\n",
        "# Se seleccionana las columnas relevantes\n",
        "df_bd_lemat_f2 = df_bd_lemat_f2[['nit','sector', 'subsec','news_id', 'news_title', 'news_text_content', 'Tema_texto']]\n",
        "df_bd_lemat_f2.head(3)"
      ]
    },
    {
      "cell_type": "markdown",
      "metadata": {
        "id": "0Q70SfN5ZqP_"
      },
      "source": [
        "Se revisa cuantas noticias existe por sector:"
      ]
    },
    {
      "cell_type": "code",
      "execution_count": 12,
      "metadata": {
        "colab": {
          "base_uri": "https://localhost:8080/"
        },
        "id": "9Jjx8THHZnu_",
        "outputId": "12343c2a-b3f8-481d-da56-92242a6a77ef"
      },
      "outputs": [
        {
          "data": {
            "text/plain": [
              "sector\n",
              "Industrial    21697\n",
              "Salud          1303\n",
              "Name: count, dtype: int64"
            ]
          },
          "execution_count": 12,
          "metadata": {},
          "output_type": "execute_result"
        }
      ],
      "source": [
        "df_bd_lemat_f2['sector'].value_counts()"
      ]
    },
    {
      "cell_type": "markdown",
      "metadata": {
        "id": "sKG3IGw-Zuru"
      },
      "source": [
        "Como se dijo durante el stemming, gran parte de la población pertenece a otros sectores diferentes al sector salud.\n",
        "\n",
        "Ahora, se procede a consumir las funciones creadas cuando se creó el recomendador por stemming:"
      ]
    },
    {
      "cell_type": "code",
      "execution_count": 13,
      "metadata": {
        "colab": {
          "base_uri": "https://localhost:8080/",
          "height": 363
        },
        "id": "Laqa6DMEczBp",
        "outputId": "eb20d05b-8cb5-481d-ed6c-e51c6b0f82f4"
      },
      "outputs": [
        {
          "data": {
            "text/html": [
              "<div>\n",
              "<style scoped>\n",
              "    .dataframe tbody tr th:only-of-type {\n",
              "        vertical-align: middle;\n",
              "    }\n",
              "\n",
              "    .dataframe tbody tr th {\n",
              "        vertical-align: top;\n",
              "    }\n",
              "\n",
              "    .dataframe thead th {\n",
              "        text-align: right;\n",
              "    }\n",
              "</style>\n",
              "<table border=\"1\" class=\"dataframe\">\n",
              "  <thead>\n",
              "    <tr style=\"text-align: right;\">\n",
              "      <th></th>\n",
              "      <th>news_id</th>\n",
              "      <th>news_title</th>\n",
              "      <th>Tema_texto</th>\n",
              "      <th>news_text_content</th>\n",
              "    </tr>\n",
              "  </thead>\n",
              "  <tbody>\n",
              "    <tr>\n",
              "      <th>0</th>\n",
              "      <td>news75416</td>\n",
              "      <td>Los jovenes talentos de la quimica, reconocido...</td>\n",
              "      <td>Salud</td>\n",
              "      <td>Los galardonados en la XIV Edicion han sido: P...</td>\n",
              "    </tr>\n",
              "    <tr>\n",
              "      <th>1</th>\n",
              "      <td>news13052</td>\n",
              "      <td>Investigacion desmiente atribuciones de la vit...</td>\n",
              "      <td>Salud</td>\n",
              "      <td>DIARIO DEL HUILA, SALUD La revista The New Eng...</td>\n",
              "    </tr>\n",
              "    <tr>\n",
              "      <th>2</th>\n",
              "      <td>news89626</td>\n",
              "      <td>Deforestacion: mas alla de tumbar y sembrar ar...</td>\n",
              "      <td>Sostenibilidad</td>\n",
              "      <td>Martes, Octubre 4 de 2022 Credito: FCDS La sob...</td>\n",
              "    </tr>\n",
              "    <tr>\n",
              "      <th>3</th>\n",
              "      <td>news59461</td>\n",
              "      <td>El manejo holistico en la ganaderianeuquina</td>\n",
              "      <td>Sostenibilidad</td>\n",
              "      <td>A mediados de este ano inicio la ejecucion de ...</td>\n",
              "    </tr>\n",
              "    <tr>\n",
              "      <th>4</th>\n",
              "      <td>news80832</td>\n",
              "      <td>'Paz total': el Clan del Golfo y el posible ac...</td>\n",
              "      <td>Innovación</td>\n",
              "      <td>Escuche aqui nuestro programa 'El primer cafe'...</td>\n",
              "    </tr>\n",
              "    <tr>\n",
              "      <th>5</th>\n",
              "      <td>news55311</td>\n",
              "      <td>FOTOS: IKEA abre su primera tienda en Sudameri...</td>\n",
              "      <td>Innovación</td>\n",
              "      <td>Tras cuatro anos de trabajo la primera tienda ...</td>\n",
              "    </tr>\n",
              "    <tr>\n",
              "      <th>6</th>\n",
              "      <td>news47050</td>\n",
              "      <td>Hidrogeno verde, retos y oportunidades en el...</td>\n",
              "      <td>Regulaciones</td>\n",
              "      <td>+21,000 proyectos en Latinoamerica. +28,600 e...</td>\n",
              "    </tr>\n",
              "    <tr>\n",
              "      <th>7</th>\n",
              "      <td>news55904</td>\n",
              "      <td>\"Reputacion\": en campana politica todo vale | ...</td>\n",
              "      <td>Regulaciones</td>\n",
              "      <td>Reputacion es una serie de seis capitulos que ...</td>\n",
              "    </tr>\n",
              "    <tr>\n",
              "      <th>8</th>\n",
              "      <td>news92557</td>\n",
              "      <td>Liga 1 2022: Asi se jugara la fecha 7 del Torn...</td>\n",
              "      <td>Deportes</td>\n",
              "      <td>Programacion de la fecha 7 del Torneo Clausura...</td>\n",
              "    </tr>\n",
              "    <tr>\n",
              "      <th>9</th>\n",
              "      <td>news25895</td>\n",
              "      <td>El colombiano Eduard Atuesta marco su primer g...</td>\n",
              "      <td>Deportes</td>\n",
              "      <td>Tras 38 juegos encima y un total de 1.284' min...</td>\n",
              "    </tr>\n",
              "  </tbody>\n",
              "</table>\n",
              "</div>"
            ],
            "text/plain": [
              "     news_id                                         news_title   \n",
              "0  news75416  Los jovenes talentos de la quimica, reconocido...  \\\n",
              "1  news13052  Investigacion desmiente atribuciones de la vit...   \n",
              "2  news89626  Deforestacion: mas alla de tumbar y sembrar ar...   \n",
              "3  news59461        El manejo holistico en la ganaderianeuquina   \n",
              "4  news80832  'Paz total': el Clan del Golfo y el posible ac...   \n",
              "5  news55311  FOTOS: IKEA abre su primera tienda en Sudameri...   \n",
              "6  news47050    Hidrogeno verde, retos y oportunidades en el...   \n",
              "7  news55904  \"Reputacion\": en campana politica todo vale | ...   \n",
              "8  news92557  Liga 1 2022: Asi se jugara la fecha 7 del Torn...   \n",
              "9  news25895  El colombiano Eduard Atuesta marco su primer g...   \n",
              "\n",
              "       Tema_texto                                  news_text_content  \n",
              "0           Salud  Los galardonados en la XIV Edicion han sido: P...  \n",
              "1           Salud  DIARIO DEL HUILA, SALUD La revista The New Eng...  \n",
              "2  Sostenibilidad  Martes, Octubre 4 de 2022 Credito: FCDS La sob...  \n",
              "3  Sostenibilidad  A mediados de este ano inicio la ejecucion de ...  \n",
              "4      Innovación  Escuche aqui nuestro programa 'El primer cafe'...  \n",
              "5      Innovación  Tras cuatro anos de trabajo la primera tienda ...  \n",
              "6    Regulaciones   +21,000 proyectos en Latinoamerica. +28,600 e...  \n",
              "7    Regulaciones  Reputacion es una serie de seis capitulos que ...  \n",
              "8        Deportes  Programacion de la fecha 7 del Torneo Clausura...  \n",
              "9        Deportes  Tras 38 juegos encima y un total de 1.284' min...  "
            ]
          },
          "execution_count": 13,
          "metadata": {},
          "output_type": "execute_result"
        }
      ],
      "source": [
        "# Ejemplo cliente sector salud\n",
        "p = recomendador(860003216, 10, df_bd_lemat_f2)\n",
        "p"
      ]
    },
    {
      "cell_type": "code",
      "execution_count": 14,
      "metadata": {
        "colab": {
          "base_uri": "https://localhost:8080/",
          "height": 363
        },
        "id": "DsVuHCyqdd3m",
        "outputId": "a0433b69-e5da-44ea-cf6d-c67566301216"
      },
      "outputs": [
        {
          "data": {
            "text/html": [
              "<div>\n",
              "<style scoped>\n",
              "    .dataframe tbody tr th:only-of-type {\n",
              "        vertical-align: middle;\n",
              "    }\n",
              "\n",
              "    .dataframe tbody tr th {\n",
              "        vertical-align: top;\n",
              "    }\n",
              "\n",
              "    .dataframe thead th {\n",
              "        text-align: right;\n",
              "    }\n",
              "</style>\n",
              "<table border=\"1\" class=\"dataframe\">\n",
              "  <thead>\n",
              "    <tr style=\"text-align: right;\">\n",
              "      <th></th>\n",
              "      <th>news_id</th>\n",
              "      <th>news_title</th>\n",
              "      <th>Tema_texto</th>\n",
              "      <th>news_text_content</th>\n",
              "    </tr>\n",
              "  </thead>\n",
              "  <tbody>\n",
              "    <tr>\n",
              "      <th>0</th>\n",
              "      <td>news96556</td>\n",
              "      <td>Peso cubano y mipymes en la mirilla</td>\n",
              "      <td>Macroeconómicas</td>\n",
              "      <td>La proxima apertura de un mercado cambiario pa...</td>\n",
              "    </tr>\n",
              "    <tr>\n",
              "      <th>1</th>\n",
              "      <td>news42292</td>\n",
              "      <td>Dilemas y desafios de la economia dominicana e...</td>\n",
              "      <td>Macroeconómicas</td>\n",
              "      <td>La economia dominicana con el covid-19 vio int...</td>\n",
              "    </tr>\n",
              "    <tr>\n",
              "      <th>2</th>\n",
              "      <td>news92036</td>\n",
              "      <td>Correos y Grupo ONCE crean un convenio para de...</td>\n",
              "      <td>Política</td>\n",
              "      <td>Correos ha suscrito hoy un convenio marco de c...</td>\n",
              "    </tr>\n",
              "    <tr>\n",
              "      <th>3</th>\n",
              "      <td>news40343</td>\n",
              "      <td>Segun Roy Barreras \"este sera el Congreso de l...</td>\n",
              "      <td>Política</td>\n",
              "      <td>El senador Roy Barreras, presidente electo de ...</td>\n",
              "    </tr>\n",
              "    <tr>\n",
              "      <th>4</th>\n",
              "      <td>news18686</td>\n",
              "      <td>El cultivo de papa con una fuerte transformacion</td>\n",
              "      <td>Sostenibilidad</td>\n",
              "      <td>Una investigacion de la Maestria en Medio Amb...</td>\n",
              "    </tr>\n",
              "    <tr>\n",
              "      <th>5</th>\n",
              "      <td>news63349</td>\n",
              "      <td>Transicion energetica: el futuro esta en manos...</td>\n",
              "      <td>Sostenibilidad</td>\n",
              "      <td>A los militantes ambientalistas les encanta ac...</td>\n",
              "    </tr>\n",
              "    <tr>\n",
              "      <th>6</th>\n",
              "      <td>news14602</td>\n",
              "      <td>Estas son las mejores 'startup' colombianas en...</td>\n",
              "      <td>Innovación</td>\n",
              "      <td>Cuando se piensa en conceptos como inteligenci...</td>\n",
              "    </tr>\n",
              "    <tr>\n",
              "      <th>7</th>\n",
              "      <td>news91930</td>\n",
              "      <td>Legislador estadounidense pide a Apple y Googl...</td>\n",
              "      <td>Innovación</td>\n",
              "      <td>El senador Sherrod Brown, presidente del Comit...</td>\n",
              "    </tr>\n",
              "    <tr>\n",
              "      <th>8</th>\n",
              "      <td>news18357</td>\n",
              "      <td>INV: Las empresas pueden hacer inversiones ded...</td>\n",
              "      <td>Regulaciones</td>\n",
              "      <td>INV Agente de Seguros SA de CV es el primer br...</td>\n",
              "    </tr>\n",
              "    <tr>\n",
              "      <th>9</th>\n",
              "      <td>news41974</td>\n",
              "      <td>Chilena Colbun considera claves PPA para const...</td>\n",
              "      <td>Regulaciones</td>\n",
              "      <td>+21,000 proyectos en Latinoamerica. +28,600 e...</td>\n",
              "    </tr>\n",
              "  </tbody>\n",
              "</table>\n",
              "</div>"
            ],
            "text/plain": [
              "     news_id                                         news_title   \n",
              "0  news96556                Peso cubano y mipymes en la mirilla  \\\n",
              "1  news42292  Dilemas y desafios de la economia dominicana e...   \n",
              "2  news92036  Correos y Grupo ONCE crean un convenio para de...   \n",
              "3  news40343  Segun Roy Barreras \"este sera el Congreso de l...   \n",
              "4  news18686   El cultivo de papa con una fuerte transformacion   \n",
              "5  news63349  Transicion energetica: el futuro esta en manos...   \n",
              "6  news14602  Estas son las mejores 'startup' colombianas en...   \n",
              "7  news91930  Legislador estadounidense pide a Apple y Googl...   \n",
              "8  news18357  INV: Las empresas pueden hacer inversiones ded...   \n",
              "9  news41974  Chilena Colbun considera claves PPA para const...   \n",
              "\n",
              "        Tema_texto                                  news_text_content  \n",
              "0  Macroeconómicas  La proxima apertura de un mercado cambiario pa...  \n",
              "1  Macroeconómicas  La economia dominicana con el covid-19 vio int...  \n",
              "2         Política  Correos ha suscrito hoy un convenio marco de c...  \n",
              "3         Política  El senador Roy Barreras, presidente electo de ...  \n",
              "4   Sostenibilidad   Una investigacion de la Maestria en Medio Amb...  \n",
              "5   Sostenibilidad  A los militantes ambientalistas les encanta ac...  \n",
              "6       Innovación  Cuando se piensa en conceptos como inteligenci...  \n",
              "7       Innovación  El senador Sherrod Brown, presidente del Comit...  \n",
              "8     Regulaciones  INV Agente de Seguros SA de CV es el primer br...  \n",
              "9     Regulaciones   +21,000 proyectos en Latinoamerica. +28,600 e...  "
            ]
          },
          "execution_count": 14,
          "metadata": {},
          "output_type": "execute_result"
        }
      ],
      "source": [
        "# Ejemplo cliente sector Industrial\n",
        "h = recomendador(800000946, 10, df_bd_lemat_f2)\n",
        "h"
      ]
    },
    {
      "cell_type": "markdown",
      "metadata": {
        "id": "2tg2yKsNdVQp"
      },
      "source": [
        "El recomendador asigna de manera adecuada la priorización de noticias de acuerdo al sector."
      ]
    },
    {
      "cell_type": "markdown",
      "metadata": {
        "id": "ggBTTxYWcfqX"
      },
      "source": [
        "## ***5. Resultados***"
      ]
    },
    {
      "cell_type": "markdown",
      "metadata": {
        "id": "jzqKzV4KdlSf"
      },
      "source": [
        "En este apartado se visualizan dos resultados de las sugerencias de las noticias para los clientes, uno del sector salud y otro del sector industrial. La idea es mostrar 10 noticias para cada uno de los modelos y revisar la asertividad de las noticias."
      ]
    },
    {
      "cell_type": "markdown",
      "metadata": {
        "id": "sfJWrkgYkC9m"
      },
      "source": [
        "**Sector salud - LDA (Stemming)**"
      ]
    },
    {
      "cell_type": "code",
      "execution_count": 15,
      "metadata": {
        "colab": {
          "base_uri": "https://localhost:8080/",
          "height": 363
        },
        "id": "Vj7VQcTIaLOx",
        "outputId": "a824eea2-248f-43cd-eb22-52b97b08fd3b"
      },
      "outputs": [
        {
          "data": {
            "text/html": [
              "<div>\n",
              "<style scoped>\n",
              "    .dataframe tbody tr th:only-of-type {\n",
              "        vertical-align: middle;\n",
              "    }\n",
              "\n",
              "    .dataframe tbody tr th {\n",
              "        vertical-align: top;\n",
              "    }\n",
              "\n",
              "    .dataframe thead th {\n",
              "        text-align: right;\n",
              "    }\n",
              "</style>\n",
              "<table border=\"1\" class=\"dataframe\">\n",
              "  <thead>\n",
              "    <tr style=\"text-align: right;\">\n",
              "      <th></th>\n",
              "      <th>news_id</th>\n",
              "      <th>news_title</th>\n",
              "      <th>Tema_texto</th>\n",
              "      <th>news_text_content</th>\n",
              "    </tr>\n",
              "  </thead>\n",
              "  <tbody>\n",
              "    <tr>\n",
              "      <th>0</th>\n",
              "      <td>news43795</td>\n",
              "      <td>Colombia Productiva lanzo plataforma especiali...</td>\n",
              "      <td>Salud</td>\n",
              "      <td>Colombia Productiva , entidad adscrita al Mini...</td>\n",
              "    </tr>\n",
              "    <tr>\n",
              "      <th>1</th>\n",
              "      <td>news36936</td>\n",
              "      <td>Binance lanza su primera tarjeta cripto en Lat...</td>\n",
              "      <td>Salud</td>\n",
              "      <td>Buenos Aires -- Binance, el mayor exchange de ...</td>\n",
              "    </tr>\n",
              "    <tr>\n",
              "      <th>2</th>\n",
              "      <td>news65227</td>\n",
              "      <td>Cartagena: \"Fue un golpe duro lo sucedido en D...</td>\n",
              "      <td>Sostenibilidad</td>\n",
              "      <td>Wilder Cartagena, volante nacional, converso c...</td>\n",
              "    </tr>\n",
              "    <tr>\n",
              "      <th>3</th>\n",
              "      <td>news96188</td>\n",
              "      <td>Argentina y Paraguay jugaran por el tercer pue...</td>\n",
              "      <td>Sostenibilidad</td>\n",
              "      <td>MEDIAKIT - MINUTOUNO Director: Jorge Garcia Pr...</td>\n",
              "    </tr>\n",
              "    <tr>\n",
              "      <th>4</th>\n",
              "      <td>news55468</td>\n",
              "      <td>Nuevas cuarentenas en China amenazan con debil...</td>\n",
              "      <td>Innovación</td>\n",
              "      <td>Si hay algun indicio de que lo que sucedera a ...</td>\n",
              "    </tr>\n",
              "    <tr>\n",
              "      <th>5</th>\n",
              "      <td>news41471</td>\n",
              "      <td>Una alerta desde Canarias previno a la Interpo...</td>\n",
              "      <td>Innovación</td>\n",
              "      <td>\"Necesito saber como las compro, si fue direct...</td>\n",
              "    </tr>\n",
              "    <tr>\n",
              "      <th>6</th>\n",
              "      <td>news34842</td>\n",
              "      <td>Nuevas exposiciones de arte en la ciudad invit...</td>\n",
              "      <td>Regulaciones</td>\n",
              "      <td>A media cuadra, en el Art Hotel, se encuentra ...</td>\n",
              "    </tr>\n",
              "    <tr>\n",
              "      <th>7</th>\n",
              "      <td>news39595</td>\n",
              "      <td>Puerto Tirol, una localidad pujante que celebr...</td>\n",
              "      <td>Regulaciones</td>\n",
              "      <td>Hoy celebra los 134 anos Puerto Tirol. Un pueb...</td>\n",
              "    </tr>\n",
              "    <tr>\n",
              "      <th>8</th>\n",
              "      <td>news72265</td>\n",
              "      <td>Son 5000 los articulos y 135 las empresas que ...</td>\n",
              "      <td>Deportes</td>\n",
              "      <td>El municipio comunico este miercoles que ya so...</td>\n",
              "    </tr>\n",
              "    <tr>\n",
              "      <th>9</th>\n",
              "      <td>news87044</td>\n",
              "      <td>VIU y Fundacion ONCE impulsan la educacion inc...</td>\n",
              "      <td>Deportes</td>\n",
              "      <td>La Universidad Internacional de Valencia y Fun...</td>\n",
              "    </tr>\n",
              "  </tbody>\n",
              "</table>\n",
              "</div>"
            ],
            "text/plain": [
              "     news_id                                         news_title   \n",
              "0  news43795  Colombia Productiva lanzo plataforma especiali...  \\\n",
              "1  news36936  Binance lanza su primera tarjeta cripto en Lat...   \n",
              "2  news65227  Cartagena: \"Fue un golpe duro lo sucedido en D...   \n",
              "3  news96188  Argentina y Paraguay jugaran por el tercer pue...   \n",
              "4  news55468  Nuevas cuarentenas en China amenazan con debil...   \n",
              "5  news41471  Una alerta desde Canarias previno a la Interpo...   \n",
              "6  news34842  Nuevas exposiciones de arte en la ciudad invit...   \n",
              "7  news39595  Puerto Tirol, una localidad pujante que celebr...   \n",
              "8  news72265  Son 5000 los articulos y 135 las empresas que ...   \n",
              "9  news87044  VIU y Fundacion ONCE impulsan la educacion inc...   \n",
              "\n",
              "       Tema_texto                                  news_text_content  \n",
              "0           Salud  Colombia Productiva , entidad adscrita al Mini...  \n",
              "1           Salud  Buenos Aires -- Binance, el mayor exchange de ...  \n",
              "2  Sostenibilidad  Wilder Cartagena, volante nacional, converso c...  \n",
              "3  Sostenibilidad  MEDIAKIT - MINUTOUNO Director: Jorge Garcia Pr...  \n",
              "4      Innovación  Si hay algun indicio de que lo que sucedera a ...  \n",
              "5      Innovación  \"Necesito saber como las compro, si fue direct...  \n",
              "6    Regulaciones  A media cuadra, en el Art Hotel, se encuentra ...  \n",
              "7    Regulaciones  Hoy celebra los 134 anos Puerto Tirol. Un pueb...  \n",
              "8        Deportes  El municipio comunico este miercoles que ya so...  \n",
              "9        Deportes  La Universidad Internacional de Valencia y Fun...  "
            ]
          },
          "execution_count": 15,
          "metadata": {},
          "output_type": "execute_result"
        }
      ],
      "source": [
        "p = recomendador(860003216, 10, df_bd_stemming_f2)\n",
        "p"
      ]
    },
    {
      "cell_type": "markdown",
      "metadata": {
        "id": "Y5UstCcTkKnj"
      },
      "source": [
        "**Sector salud - LDA (Lematización)**"
      ]
    },
    {
      "cell_type": "code",
      "execution_count": 16,
      "metadata": {
        "colab": {
          "base_uri": "https://localhost:8080/",
          "height": 363
        },
        "id": "daPj3TwjbhLa",
        "outputId": "51ad0d1f-f673-40f0-953c-a1f108d12f49"
      },
      "outputs": [
        {
          "data": {
            "text/html": [
              "<div>\n",
              "<style scoped>\n",
              "    .dataframe tbody tr th:only-of-type {\n",
              "        vertical-align: middle;\n",
              "    }\n",
              "\n",
              "    .dataframe tbody tr th {\n",
              "        vertical-align: top;\n",
              "    }\n",
              "\n",
              "    .dataframe thead th {\n",
              "        text-align: right;\n",
              "    }\n",
              "</style>\n",
              "<table border=\"1\" class=\"dataframe\">\n",
              "  <thead>\n",
              "    <tr style=\"text-align: right;\">\n",
              "      <th></th>\n",
              "      <th>news_id</th>\n",
              "      <th>news_title</th>\n",
              "      <th>Tema_texto</th>\n",
              "      <th>news_text_content</th>\n",
              "    </tr>\n",
              "  </thead>\n",
              "  <tbody>\n",
              "    <tr>\n",
              "      <th>0</th>\n",
              "      <td>news92469</td>\n",
              "      <td>Salud niega muerte por falla electrica en el H...</td>\n",
              "      <td>Salud</td>\n",
              "      <td>Un hombre alego este lunes que perdio a su hij...</td>\n",
              "    </tr>\n",
              "    <tr>\n",
              "      <th>1</th>\n",
              "      <td>news12835</td>\n",
              "      <td>Laboratorio clinico de la Unipamplona prestara...</td>\n",
              "      <td>Salud</td>\n",
              "      <td>Con distintivo de habilitacion la dependencia ...</td>\n",
              "    </tr>\n",
              "    <tr>\n",
              "      <th>2</th>\n",
              "      <td>news61649</td>\n",
              "      <td>CEMEX realiza acciones para reducir emisiones ...</td>\n",
              "      <td>Sostenibilidad</td>\n",
              "      <td>MONTERREY.- CEMEX, S.A.B. de C.V. (\"CEMEX\") in...</td>\n",
              "    </tr>\n",
              "    <tr>\n",
              "      <th>3</th>\n",
              "      <td>news78101</td>\n",
              "      <td>Los desechos alimenticios humanos son \"una ame...</td>\n",
              "      <td>Sostenibilidad</td>\n",
              "      <td>Los osos polares estan gravemente amenazados p...</td>\n",
              "    </tr>\n",
              "    <tr>\n",
              "      <th>4</th>\n",
              "      <td>news66526</td>\n",
              "      <td>Los 30 mejores pijama mujer largo cuidadosamen...</td>\n",
              "      <td>Innovación</td>\n",
              "      <td>Todos somos conscientes de la dificultad a la ...</td>\n",
              "    </tr>\n",
              "    <tr>\n",
              "      <th>5</th>\n",
              "      <td>news29721</td>\n",
              "      <td>Liquido de la Encapsulacion de Mercado de los ...</td>\n",
              "      <td>Innovación</td>\n",
              "      <td>Descripcion del reporte Este informe es un est...</td>\n",
              "    </tr>\n",
              "    <tr>\n",
              "      <th>6</th>\n",
              "      <td>news33716</td>\n",
              "      <td>El trabajo de una nina wayuu. - Tuu Putchika</td>\n",
              "      <td>Regulaciones</td>\n",
              "      <td>Esta es la historia de Natalia, una nina que v...</td>\n",
              "    </tr>\n",
              "    <tr>\n",
              "      <th>7</th>\n",
              "      <td>news62178</td>\n",
              "      <td>Orden DEF/711/2022, de 18 de julio, por la que...</td>\n",
              "      <td>Regulaciones</td>\n",
              "      <td>Primera. Objeto. Estas normas tienen por objet...</td>\n",
              "    </tr>\n",
              "    <tr>\n",
              "      <th>8</th>\n",
              "      <td>news44714</td>\n",
              "      <td>Ministra del Deporte enfrento a la Dimayor y m...</td>\n",
              "      <td>Deportes</td>\n",
              "      <td>Uno de los deportes que ha generado polemica d...</td>\n",
              "    </tr>\n",
              "    <tr>\n",
              "      <th>9</th>\n",
              "      <td>news89026</td>\n",
              "      <td>GOLPERU transmitio: Alianza Lima 1-0 Alianza A...</td>\n",
              "      <td>Deportes</td>\n",
              "      <td>/ Noticias Informacion basada en hechos y veri...</td>\n",
              "    </tr>\n",
              "  </tbody>\n",
              "</table>\n",
              "</div>"
            ],
            "text/plain": [
              "     news_id                                         news_title   \n",
              "0  news92469  Salud niega muerte por falla electrica en el H...  \\\n",
              "1  news12835  Laboratorio clinico de la Unipamplona prestara...   \n",
              "2  news61649  CEMEX realiza acciones para reducir emisiones ...   \n",
              "3  news78101  Los desechos alimenticios humanos son \"una ame...   \n",
              "4  news66526  Los 30 mejores pijama mujer largo cuidadosamen...   \n",
              "5  news29721  Liquido de la Encapsulacion de Mercado de los ...   \n",
              "6  news33716       El trabajo de una nina wayuu. - Tuu Putchika   \n",
              "7  news62178  Orden DEF/711/2022, de 18 de julio, por la que...   \n",
              "8  news44714  Ministra del Deporte enfrento a la Dimayor y m...   \n",
              "9  news89026  GOLPERU transmitio: Alianza Lima 1-0 Alianza A...   \n",
              "\n",
              "       Tema_texto                                  news_text_content  \n",
              "0           Salud  Un hombre alego este lunes que perdio a su hij...  \n",
              "1           Salud  Con distintivo de habilitacion la dependencia ...  \n",
              "2  Sostenibilidad  MONTERREY.- CEMEX, S.A.B. de C.V. (\"CEMEX\") in...  \n",
              "3  Sostenibilidad  Los osos polares estan gravemente amenazados p...  \n",
              "4      Innovación  Todos somos conscientes de la dificultad a la ...  \n",
              "5      Innovación  Descripcion del reporte Este informe es un est...  \n",
              "6    Regulaciones  Esta es la historia de Natalia, una nina que v...  \n",
              "7    Regulaciones  Primera. Objeto. Estas normas tienen por objet...  \n",
              "8        Deportes  Uno de los deportes que ha generado polemica d...  \n",
              "9        Deportes  / Noticias Informacion basada en hechos y veri...  "
            ]
          },
          "execution_count": 16,
          "metadata": {},
          "output_type": "execute_result"
        }
      ],
      "source": [
        "p = recomendador(860003216, 10, df_bd_lemat_f2)\n",
        "p"
      ]
    },
    {
      "cell_type": "markdown",
      "metadata": {
        "id": "c7q1rl6ckOnt"
      },
      "source": [
        "**Sector Industrial - LDA (Stemming)**"
      ]
    },
    {
      "cell_type": "code",
      "execution_count": 17,
      "metadata": {
        "colab": {
          "base_uri": "https://localhost:8080/",
          "height": 363
        },
        "id": "8FO-VKXQb4Eg",
        "outputId": "d15b6a48-52e8-4d42-a48f-83401d9e97b0"
      },
      "outputs": [
        {
          "data": {
            "text/html": [
              "<div>\n",
              "<style scoped>\n",
              "    .dataframe tbody tr th:only-of-type {\n",
              "        vertical-align: middle;\n",
              "    }\n",
              "\n",
              "    .dataframe tbody tr th {\n",
              "        vertical-align: top;\n",
              "    }\n",
              "\n",
              "    .dataframe thead th {\n",
              "        text-align: right;\n",
              "    }\n",
              "</style>\n",
              "<table border=\"1\" class=\"dataframe\">\n",
              "  <thead>\n",
              "    <tr style=\"text-align: right;\">\n",
              "      <th></th>\n",
              "      <th>news_id</th>\n",
              "      <th>news_title</th>\n",
              "      <th>Tema_texto</th>\n",
              "      <th>news_text_content</th>\n",
              "    </tr>\n",
              "  </thead>\n",
              "  <tbody>\n",
              "    <tr>\n",
              "      <th>0</th>\n",
              "      <td>news61284</td>\n",
              "      <td>Pedro Castillo se compromete con el empresaria...</td>\n",
              "      <td>Macroeconómicas</td>\n",
              "      <td>Pretende a corto plazo, concretar una alianza ...</td>\n",
              "    </tr>\n",
              "    <tr>\n",
              "      <th>1</th>\n",
              "      <td>news88809</td>\n",
              "      <td>?Cual es la salida para la crisis en Argentina...</td>\n",
              "      <td>Macroeconómicas</td>\n",
              "      <td>(CNN Espanol) -- Argentina busca una salida pa...</td>\n",
              "    </tr>\n",
              "    <tr>\n",
              "      <th>2</th>\n",
              "      <td>news94691</td>\n",
              "      <td>?Ley seca para la posesion de Petro? Esta fue ...</td>\n",
              "      <td>Política</td>\n",
              "      <td>El Gobierno encabezado por el presidente Ivan ...</td>\n",
              "    </tr>\n",
              "    <tr>\n",
              "      <th>3</th>\n",
              "      <td>news72883</td>\n",
              "      <td>Proponen que Informe de Comision de la Verdad ...</td>\n",
              "      <td>Política</td>\n",
              "      <td>Colombia En entrevista con La W, el senador de...</td>\n",
              "    </tr>\n",
              "    <tr>\n",
              "      <th>4</th>\n",
              "      <td>news17681</td>\n",
              "      <td>[Video] No te pierdas el gol con el que la sel...</td>\n",
              "      <td>Sostenibilidad</td>\n",
              "      <td>La seleccion Colombia femenina se encuentra en...</td>\n",
              "    </tr>\n",
              "    <tr>\n",
              "      <th>5</th>\n",
              "      <td>news18819</td>\n",
              "      <td>Palmeiras recupera el liderato y desbanca a un...</td>\n",
              "      <td>Sostenibilidad</td>\n",
              "      <td>Sao Paulo, 18 jul (EFE).- Palmeiras derroto es...</td>\n",
              "    </tr>\n",
              "    <tr>\n",
              "      <th>6</th>\n",
              "      <td>news85909</td>\n",
              "      <td>Ucrania: millones de toneladas de alimentos si...</td>\n",
              "      <td>Innovación</td>\n",
              "      <td>La guerra en Ucrania esta proxima a cumplir se...</td>\n",
              "    </tr>\n",
              "    <tr>\n",
              "      <th>7</th>\n",
              "      <td>news85033</td>\n",
              "      <td>Lamenta Cuba perdidas humanas y danos por lluv...</td>\n",
              "      <td>Innovación</td>\n",
              "      <td>La Habana, 2 ago.- El canciller de Cuba, Brun...</td>\n",
              "    </tr>\n",
              "    <tr>\n",
              "      <th>8</th>\n",
              "      <td>news29534</td>\n",
              "      <td>SuperSociedades reanudara este jueves la audie...</td>\n",
              "      <td>Regulaciones</td>\n",
              "      <td>La Superintendencia de Sociedades definira est...</td>\n",
              "    </tr>\n",
              "    <tr>\n",
              "      <th>9</th>\n",
              "      <td>news12006</td>\n",
              "      <td>?Por que la empresa de agua Eicviro retoma el ...</td>\n",
              "      <td>Regulaciones</td>\n",
              "      <td>La Superintendencia de Servicios Publicos Domi...</td>\n",
              "    </tr>\n",
              "  </tbody>\n",
              "</table>\n",
              "</div>"
            ],
            "text/plain": [
              "     news_id                                         news_title   \n",
              "0  news61284  Pedro Castillo se compromete con el empresaria...  \\\n",
              "1  news88809  ?Cual es la salida para la crisis en Argentina...   \n",
              "2  news94691  ?Ley seca para la posesion de Petro? Esta fue ...   \n",
              "3  news72883  Proponen que Informe de Comision de la Verdad ...   \n",
              "4  news17681  [Video] No te pierdas el gol con el que la sel...   \n",
              "5  news18819  Palmeiras recupera el liderato y desbanca a un...   \n",
              "6  news85909  Ucrania: millones de toneladas de alimentos si...   \n",
              "7  news85033  Lamenta Cuba perdidas humanas y danos por lluv...   \n",
              "8  news29534  SuperSociedades reanudara este jueves la audie...   \n",
              "9  news12006  ?Por que la empresa de agua Eicviro retoma el ...   \n",
              "\n",
              "        Tema_texto                                  news_text_content  \n",
              "0  Macroeconómicas  Pretende a corto plazo, concretar una alianza ...  \n",
              "1  Macroeconómicas  (CNN Espanol) -- Argentina busca una salida pa...  \n",
              "2         Política  El Gobierno encabezado por el presidente Ivan ...  \n",
              "3         Política  Colombia En entrevista con La W, el senador de...  \n",
              "4   Sostenibilidad  La seleccion Colombia femenina se encuentra en...  \n",
              "5   Sostenibilidad  Sao Paulo, 18 jul (EFE).- Palmeiras derroto es...  \n",
              "6       Innovación  La guerra en Ucrania esta proxima a cumplir se...  \n",
              "7       Innovación   La Habana, 2 ago.- El canciller de Cuba, Brun...  \n",
              "8     Regulaciones  La Superintendencia de Sociedades definira est...  \n",
              "9     Regulaciones  La Superintendencia de Servicios Publicos Domi...  "
            ]
          },
          "execution_count": 17,
          "metadata": {},
          "output_type": "execute_result"
        }
      ],
      "source": [
        "h = recomendador(800000946, 10, df_bd_stemming_f2)\n",
        "h"
      ]
    },
    {
      "cell_type": "markdown",
      "metadata": {
        "id": "NHRbk4TLkUu4"
      },
      "source": [
        "**Sector Industrial - LDA (Lematización)**"
      ]
    },
    {
      "cell_type": "code",
      "execution_count": 18,
      "metadata": {
        "colab": {
          "base_uri": "https://localhost:8080/",
          "height": 363
        },
        "id": "1tTLVGxYb5LP",
        "outputId": "ec235743-9ea8-45b7-9a8e-f04f862c77bd"
      },
      "outputs": [
        {
          "data": {
            "text/html": [
              "<div>\n",
              "<style scoped>\n",
              "    .dataframe tbody tr th:only-of-type {\n",
              "        vertical-align: middle;\n",
              "    }\n",
              "\n",
              "    .dataframe tbody tr th {\n",
              "        vertical-align: top;\n",
              "    }\n",
              "\n",
              "    .dataframe thead th {\n",
              "        text-align: right;\n",
              "    }\n",
              "</style>\n",
              "<table border=\"1\" class=\"dataframe\">\n",
              "  <thead>\n",
              "    <tr style=\"text-align: right;\">\n",
              "      <th></th>\n",
              "      <th>news_id</th>\n",
              "      <th>news_title</th>\n",
              "      <th>Tema_texto</th>\n",
              "      <th>news_text_content</th>\n",
              "    </tr>\n",
              "  </thead>\n",
              "  <tbody>\n",
              "    <tr>\n",
              "      <th>0</th>\n",
              "      <td>news26959</td>\n",
              "      <td>A junio, ahorro pensional de los colombianos h...</td>\n",
              "      <td>Macroeconómicas</td>\n",
              "      <td>En medio de un panorama en el que las economia...</td>\n",
              "    </tr>\n",
              "    <tr>\n",
              "      <th>1</th>\n",
              "      <td>news59059</td>\n",
              "      <td>Inversionistas perdieron fe en la capacidad de...</td>\n",
              "      <td>Macroeconómicas</td>\n",
              "      <td>El Peru es el segundo mayor productor mundial ...</td>\n",
              "    </tr>\n",
              "    <tr>\n",
              "      <th>2</th>\n",
              "      <td>news68636</td>\n",
              "      <td>Condenable el uso de obras en campana electora...</td>\n",
              "      <td>Política</td>\n",
              "      <td>Por un lado, el presidente de la Republica, Ma...</td>\n",
              "    </tr>\n",
              "    <tr>\n",
              "      <th>3</th>\n",
              "      <td>news70250</td>\n",
              "      <td>Demandan en Panama poner mayor enfasis en medi...</td>\n",
              "      <td>Política</td>\n",
              "      <td>Segun un comunicado de la Coalicion pro-transp...</td>\n",
              "    </tr>\n",
              "    <tr>\n",
              "      <th>4</th>\n",
              "      <td>news32591</td>\n",
              "      <td>Confirman otro hallazgo de gas costa afuera en...</td>\n",
              "      <td>Sostenibilidad</td>\n",
              "      <td>El gas es uno de los energeticos fundamentales...</td>\n",
              "    </tr>\n",
              "    <tr>\n",
              "      <th>5</th>\n",
              "      <td>news74813</td>\n",
              "      <td>Sector agricola requiere de tecnologia y finan...</td>\n",
              "      <td>Sostenibilidad</td>\n",
              "      <td>Caracas. El cambio climatico amenaza con volve...</td>\n",
              "    </tr>\n",
              "    <tr>\n",
              "      <th>6</th>\n",
              "      <td>news61798</td>\n",
              "      <td>?Que tanto potencial tiene el modelo de carro ...</td>\n",
              "      <td>Innovación</td>\n",
              "      <td>Aunque en Colombia todavia es un servicio inci...</td>\n",
              "    </tr>\n",
              "    <tr>\n",
              "      <th>7</th>\n",
              "      <td>news98033</td>\n",
              "      <td>Grupo Hi-Tec celebra su Demo Day A&amp;G Plastic M...</td>\n",
              "      <td>Innovación</td>\n",
              "      <td>Grupo Hi-Tec celebro el Demo Day de su divisio...</td>\n",
              "    </tr>\n",
              "    <tr>\n",
              "      <th>8</th>\n",
              "      <td>news17292</td>\n",
              "      <td>Ciudad de Mexico construira segunda planta d...</td>\n",
              "      <td>Regulaciones</td>\n",
              "      <td>+21,000 proyectos en Latinoamerica. +28,600 e...</td>\n",
              "    </tr>\n",
              "    <tr>\n",
              "      <th>9</th>\n",
              "      <td>news13025</td>\n",
              "      <td>El enfoque del nuevo director Seccional de Fis...</td>\n",
              "      <td>Regulaciones</td>\n",
              "      <td>DIARIO DEL HUILA, PRIMER PLANO Por: Johan Edua...</td>\n",
              "    </tr>\n",
              "  </tbody>\n",
              "</table>\n",
              "</div>"
            ],
            "text/plain": [
              "     news_id                                         news_title   \n",
              "0  news26959  A junio, ahorro pensional de los colombianos h...  \\\n",
              "1  news59059  Inversionistas perdieron fe en la capacidad de...   \n",
              "2  news68636  Condenable el uso de obras en campana electora...   \n",
              "3  news70250  Demandan en Panama poner mayor enfasis en medi...   \n",
              "4  news32591  Confirman otro hallazgo de gas costa afuera en...   \n",
              "5  news74813  Sector agricola requiere de tecnologia y finan...   \n",
              "6  news61798  ?Que tanto potencial tiene el modelo de carro ...   \n",
              "7  news98033  Grupo Hi-Tec celebra su Demo Day A&G Plastic M...   \n",
              "8  news17292    Ciudad de Mexico construira segunda planta d...   \n",
              "9  news13025  El enfoque del nuevo director Seccional de Fis...   \n",
              "\n",
              "        Tema_texto                                  news_text_content  \n",
              "0  Macroeconómicas  En medio de un panorama en el que las economia...  \n",
              "1  Macroeconómicas  El Peru es el segundo mayor productor mundial ...  \n",
              "2         Política  Por un lado, el presidente de la Republica, Ma...  \n",
              "3         Política  Segun un comunicado de la Coalicion pro-transp...  \n",
              "4   Sostenibilidad  El gas es uno de los energeticos fundamentales...  \n",
              "5   Sostenibilidad  Caracas. El cambio climatico amenaza con volve...  \n",
              "6       Innovación  Aunque en Colombia todavia es un servicio inci...  \n",
              "7       Innovación  Grupo Hi-Tec celebro el Demo Day de su divisio...  \n",
              "8     Regulaciones   +21,000 proyectos en Latinoamerica. +28,600 e...  \n",
              "9     Regulaciones  DIARIO DEL HUILA, PRIMER PLANO Por: Johan Edua...  "
            ]
          },
          "execution_count": 18,
          "metadata": {},
          "output_type": "execute_result"
        }
      ],
      "source": [
        "h = recomendador(800000946, 10, df_bd_lemat_f2)\n",
        "h"
      ]
    }
  ],
  "metadata": {
    "accelerator": "GPU",
    "colab": {
      "collapsed_sections": [
        "Y5V1RLeoGBde",
        "PPLUYT1v7nej",
        "dtbG3FiN7z6K",
        "9qKTQ2V5VKSX",
        "xq7kG2GAIDAp",
        "aP5-qBqGUya6",
        "54Zb2oYVcnk5",
        "HsJesFVRdMLL",
        "BfsoMSD9SCLO",
        "qD_Ho2E3STi7",
        "RT5cv2q3TQBO",
        "VciBjtB0TysR",
        "2Ymlv8DhZi1I",
        "6plGkaaLT1nm",
        "TWk0Bqx--Hcj",
        "COS9M8VZ-Hcu",
        "AusO6MSy-Hcv"
      ],
      "provenance": []
    },
    "environment": {
      "name": "r-cpu.3-6.m65",
      "type": "gcloud",
      "uri": "gcr.io/deeplearning-platform-release/r-cpu.3-6:m65"
    },
    "kernelspec": {
      "display_name": "Python 3 (ipykernel)",
      "language": "python",
      "name": "python3"
    },
    "language_info": {
      "codemirror_mode": {
        "name": "ipython",
        "version": 3
      },
      "file_extension": ".py",
      "mimetype": "text/x-python",
      "name": "python",
      "nbconvert_exporter": "python",
      "pygments_lexer": "ipython3",
      "version": "3.8.18"
    },
    "varInspector": {
      "cols": {
        "lenName": 16,
        "lenType": 16,
        "lenVar": 40
      },
      "kernels_config": {
        "python": {
          "delete_cmd_postfix": "",
          "delete_cmd_prefix": "del ",
          "library": "var_list.py",
          "varRefreshCmd": "print(var_dic_list())"
        },
        "r": {
          "delete_cmd_postfix": ") ",
          "delete_cmd_prefix": "rm(",
          "library": "var_list.r",
          "varRefreshCmd": "cat(var_dic_list()) "
        }
      },
      "types_to_exclude": [
        "module",
        "function",
        "builtin_function_or_method",
        "instance",
        "_Feature"
      ],
      "window_display": false
    }
  },
  "nbformat": 4,
  "nbformat_minor": 0
}
